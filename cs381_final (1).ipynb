{
 "cells": [
  {
   "cell_type": "markdown",
   "id": "2064fc71-eef7-4579-937a-c2404208b656",
   "metadata": {},
   "source": [
    "## Import libraries needed for this project"
   ]
  },
  {
   "cell_type": "code",
   "execution_count": 22,
   "id": "fbb4ba84-4133-4446-a549-35125704c3d8",
   "metadata": {},
   "outputs": [
    {
     "name": "stdout",
     "output_type": "stream",
     "text": [
      "Collecting statsmodels\n",
      "  Using cached statsmodels-0.14.2-cp311-cp311-manylinux_2_17_x86_64.manylinux2014_x86_64.whl.metadata (9.2 kB)\n",
      "Requirement already satisfied: numpy>=1.22.3 in /opt/conda/lib/python3.11/site-packages (from statsmodels) (1.26.3)\n",
      "Requirement already satisfied: scipy!=1.9.2,>=1.8 in /opt/conda/lib/python3.11/site-packages (from statsmodels) (1.13.0)\n",
      "Requirement already satisfied: pandas!=2.1.0,>=1.4 in /opt/conda/lib/python3.11/site-packages (from statsmodels) (2.2.0)\n",
      "Collecting patsy>=0.5.6 (from statsmodels)\n",
      "  Using cached patsy-0.5.6-py2.py3-none-any.whl.metadata (3.5 kB)\n",
      "Requirement already satisfied: packaging>=21.3 in /opt/conda/lib/python3.11/site-packages (from statsmodels) (23.2)\n",
      "Requirement already satisfied: python-dateutil>=2.8.2 in /opt/conda/lib/python3.11/site-packages (from pandas!=2.1.0,>=1.4->statsmodels) (2.8.2)\n",
      "Requirement already satisfied: pytz>=2020.1 in /opt/conda/lib/python3.11/site-packages (from pandas!=2.1.0,>=1.4->statsmodels) (2023.3.post1)\n",
      "Requirement already satisfied: tzdata>=2022.7 in /opt/conda/lib/python3.11/site-packages (from pandas!=2.1.0,>=1.4->statsmodels) (2023.4)\n",
      "Requirement already satisfied: six in /opt/conda/lib/python3.11/site-packages (from patsy>=0.5.6->statsmodels) (1.16.0)\n",
      "Using cached statsmodels-0.14.2-cp311-cp311-manylinux_2_17_x86_64.manylinux2014_x86_64.whl (10.7 MB)\n",
      "Using cached patsy-0.5.6-py2.py3-none-any.whl (233 kB)\n",
      "Installing collected packages: patsy, statsmodels\n",
      "Successfully installed patsy-0.5.6 statsmodels-0.14.2\n"
     ]
    }
   ],
   "source": [
    "#!pip install seaborn\n",
    "#!pip install scipy\n",
    "#!pip install statsmodels\n",
    "import pandas as pd\n",
    "import numpy as np\n",
    "import matplotlib.pyplot as plt\n",
    "import seaborn as sns\n",
    "import statsmodels.api as sm\n",
    "from statsmodels.formula.api import ols"
   ]
  },
  {
   "cell_type": "markdown",
   "id": "327fda80-b120-40a5-a36a-25f2f50a5ee2",
   "metadata": {},
   "source": [
    "## Data Collection"
   ]
  },
  {
   "cell_type": "markdown",
   "id": "b05104df-f392-43b2-875e-0bfae00824c1",
   "metadata": {},
   "source": [
    "### The data used in this project is from kaggle (https://www.kaggle.com/datasets/ahsan81/hotel-reservations-classification-dataset?resource=download). "
   ]
  },
  {
   "cell_type": "code",
   "execution_count": 3,
   "id": "490a8f6b-995d-48cb-8d92-c1be9f3ca89d",
   "metadata": {},
   "outputs": [
    {
     "data": {
      "text/html": [
       "<div>\n",
       "<style scoped>\n",
       "    .dataframe tbody tr th:only-of-type {\n",
       "        vertical-align: middle;\n",
       "    }\n",
       "\n",
       "    .dataframe tbody tr th {\n",
       "        vertical-align: top;\n",
       "    }\n",
       "\n",
       "    .dataframe thead th {\n",
       "        text-align: right;\n",
       "    }\n",
       "</style>\n",
       "<table border=\"1\" class=\"dataframe\">\n",
       "  <thead>\n",
       "    <tr style=\"text-align: right;\">\n",
       "      <th></th>\n",
       "      <th>Booking_ID</th>\n",
       "      <th>no_of_adults</th>\n",
       "      <th>no_of_children</th>\n",
       "      <th>no_of_weekend_nights</th>\n",
       "      <th>no_of_week_nights</th>\n",
       "      <th>type_of_meal_plan</th>\n",
       "      <th>required_car_parking_space</th>\n",
       "      <th>room_type_reserved</th>\n",
       "      <th>lead_time</th>\n",
       "      <th>arrival_year</th>\n",
       "      <th>arrival_month</th>\n",
       "      <th>arrival_date</th>\n",
       "      <th>market_segment_type</th>\n",
       "      <th>repeated_guest</th>\n",
       "      <th>no_of_previous_cancellations</th>\n",
       "      <th>no_of_previous_bookings_not_canceled</th>\n",
       "      <th>avg_price_per_room</th>\n",
       "      <th>no_of_special_requests</th>\n",
       "      <th>booking_status</th>\n",
       "    </tr>\n",
       "  </thead>\n",
       "  <tbody>\n",
       "    <tr>\n",
       "      <th>0</th>\n",
       "      <td>INN00001</td>\n",
       "      <td>2</td>\n",
       "      <td>0</td>\n",
       "      <td>1</td>\n",
       "      <td>2</td>\n",
       "      <td>Meal Plan 1</td>\n",
       "      <td>0</td>\n",
       "      <td>Room_Type 1</td>\n",
       "      <td>224</td>\n",
       "      <td>2017</td>\n",
       "      <td>10</td>\n",
       "      <td>2</td>\n",
       "      <td>Offline</td>\n",
       "      <td>0</td>\n",
       "      <td>0</td>\n",
       "      <td>0</td>\n",
       "      <td>65.00</td>\n",
       "      <td>0</td>\n",
       "      <td>Not_Canceled</td>\n",
       "    </tr>\n",
       "    <tr>\n",
       "      <th>1</th>\n",
       "      <td>INN00002</td>\n",
       "      <td>2</td>\n",
       "      <td>0</td>\n",
       "      <td>2</td>\n",
       "      <td>3</td>\n",
       "      <td>Not Selected</td>\n",
       "      <td>0</td>\n",
       "      <td>Room_Type 1</td>\n",
       "      <td>5</td>\n",
       "      <td>2018</td>\n",
       "      <td>11</td>\n",
       "      <td>6</td>\n",
       "      <td>Online</td>\n",
       "      <td>0</td>\n",
       "      <td>0</td>\n",
       "      <td>0</td>\n",
       "      <td>106.68</td>\n",
       "      <td>1</td>\n",
       "      <td>Not_Canceled</td>\n",
       "    </tr>\n",
       "    <tr>\n",
       "      <th>2</th>\n",
       "      <td>INN00003</td>\n",
       "      <td>1</td>\n",
       "      <td>0</td>\n",
       "      <td>2</td>\n",
       "      <td>1</td>\n",
       "      <td>Meal Plan 1</td>\n",
       "      <td>0</td>\n",
       "      <td>Room_Type 1</td>\n",
       "      <td>1</td>\n",
       "      <td>2018</td>\n",
       "      <td>2</td>\n",
       "      <td>28</td>\n",
       "      <td>Online</td>\n",
       "      <td>0</td>\n",
       "      <td>0</td>\n",
       "      <td>0</td>\n",
       "      <td>60.00</td>\n",
       "      <td>0</td>\n",
       "      <td>Canceled</td>\n",
       "    </tr>\n",
       "    <tr>\n",
       "      <th>3</th>\n",
       "      <td>INN00004</td>\n",
       "      <td>2</td>\n",
       "      <td>0</td>\n",
       "      <td>0</td>\n",
       "      <td>2</td>\n",
       "      <td>Meal Plan 1</td>\n",
       "      <td>0</td>\n",
       "      <td>Room_Type 1</td>\n",
       "      <td>211</td>\n",
       "      <td>2018</td>\n",
       "      <td>5</td>\n",
       "      <td>20</td>\n",
       "      <td>Online</td>\n",
       "      <td>0</td>\n",
       "      <td>0</td>\n",
       "      <td>0</td>\n",
       "      <td>100.00</td>\n",
       "      <td>0</td>\n",
       "      <td>Canceled</td>\n",
       "    </tr>\n",
       "    <tr>\n",
       "      <th>4</th>\n",
       "      <td>INN00005</td>\n",
       "      <td>2</td>\n",
       "      <td>0</td>\n",
       "      <td>1</td>\n",
       "      <td>1</td>\n",
       "      <td>Not Selected</td>\n",
       "      <td>0</td>\n",
       "      <td>Room_Type 1</td>\n",
       "      <td>48</td>\n",
       "      <td>2018</td>\n",
       "      <td>4</td>\n",
       "      <td>11</td>\n",
       "      <td>Online</td>\n",
       "      <td>0</td>\n",
       "      <td>0</td>\n",
       "      <td>0</td>\n",
       "      <td>94.50</td>\n",
       "      <td>0</td>\n",
       "      <td>Canceled</td>\n",
       "    </tr>\n",
       "    <tr>\n",
       "      <th>...</th>\n",
       "      <td>...</td>\n",
       "      <td>...</td>\n",
       "      <td>...</td>\n",
       "      <td>...</td>\n",
       "      <td>...</td>\n",
       "      <td>...</td>\n",
       "      <td>...</td>\n",
       "      <td>...</td>\n",
       "      <td>...</td>\n",
       "      <td>...</td>\n",
       "      <td>...</td>\n",
       "      <td>...</td>\n",
       "      <td>...</td>\n",
       "      <td>...</td>\n",
       "      <td>...</td>\n",
       "      <td>...</td>\n",
       "      <td>...</td>\n",
       "      <td>...</td>\n",
       "      <td>...</td>\n",
       "    </tr>\n",
       "    <tr>\n",
       "      <th>36270</th>\n",
       "      <td>INN36271</td>\n",
       "      <td>3</td>\n",
       "      <td>0</td>\n",
       "      <td>2</td>\n",
       "      <td>6</td>\n",
       "      <td>Meal Plan 1</td>\n",
       "      <td>0</td>\n",
       "      <td>Room_Type 4</td>\n",
       "      <td>85</td>\n",
       "      <td>2018</td>\n",
       "      <td>8</td>\n",
       "      <td>3</td>\n",
       "      <td>Online</td>\n",
       "      <td>0</td>\n",
       "      <td>0</td>\n",
       "      <td>0</td>\n",
       "      <td>167.80</td>\n",
       "      <td>1</td>\n",
       "      <td>Not_Canceled</td>\n",
       "    </tr>\n",
       "    <tr>\n",
       "      <th>36271</th>\n",
       "      <td>INN36272</td>\n",
       "      <td>2</td>\n",
       "      <td>0</td>\n",
       "      <td>1</td>\n",
       "      <td>3</td>\n",
       "      <td>Meal Plan 1</td>\n",
       "      <td>0</td>\n",
       "      <td>Room_Type 1</td>\n",
       "      <td>228</td>\n",
       "      <td>2018</td>\n",
       "      <td>10</td>\n",
       "      <td>17</td>\n",
       "      <td>Online</td>\n",
       "      <td>0</td>\n",
       "      <td>0</td>\n",
       "      <td>0</td>\n",
       "      <td>90.95</td>\n",
       "      <td>2</td>\n",
       "      <td>Canceled</td>\n",
       "    </tr>\n",
       "    <tr>\n",
       "      <th>36272</th>\n",
       "      <td>INN36273</td>\n",
       "      <td>2</td>\n",
       "      <td>0</td>\n",
       "      <td>2</td>\n",
       "      <td>6</td>\n",
       "      <td>Meal Plan 1</td>\n",
       "      <td>0</td>\n",
       "      <td>Room_Type 1</td>\n",
       "      <td>148</td>\n",
       "      <td>2018</td>\n",
       "      <td>7</td>\n",
       "      <td>1</td>\n",
       "      <td>Online</td>\n",
       "      <td>0</td>\n",
       "      <td>0</td>\n",
       "      <td>0</td>\n",
       "      <td>98.39</td>\n",
       "      <td>2</td>\n",
       "      <td>Not_Canceled</td>\n",
       "    </tr>\n",
       "    <tr>\n",
       "      <th>36273</th>\n",
       "      <td>INN36274</td>\n",
       "      <td>2</td>\n",
       "      <td>0</td>\n",
       "      <td>0</td>\n",
       "      <td>3</td>\n",
       "      <td>Not Selected</td>\n",
       "      <td>0</td>\n",
       "      <td>Room_Type 1</td>\n",
       "      <td>63</td>\n",
       "      <td>2018</td>\n",
       "      <td>4</td>\n",
       "      <td>21</td>\n",
       "      <td>Online</td>\n",
       "      <td>0</td>\n",
       "      <td>0</td>\n",
       "      <td>0</td>\n",
       "      <td>94.50</td>\n",
       "      <td>0</td>\n",
       "      <td>Canceled</td>\n",
       "    </tr>\n",
       "    <tr>\n",
       "      <th>36274</th>\n",
       "      <td>INN36275</td>\n",
       "      <td>2</td>\n",
       "      <td>0</td>\n",
       "      <td>1</td>\n",
       "      <td>2</td>\n",
       "      <td>Meal Plan 1</td>\n",
       "      <td>0</td>\n",
       "      <td>Room_Type 1</td>\n",
       "      <td>207</td>\n",
       "      <td>2018</td>\n",
       "      <td>12</td>\n",
       "      <td>30</td>\n",
       "      <td>Offline</td>\n",
       "      <td>0</td>\n",
       "      <td>0</td>\n",
       "      <td>0</td>\n",
       "      <td>161.67</td>\n",
       "      <td>0</td>\n",
       "      <td>Not_Canceled</td>\n",
       "    </tr>\n",
       "  </tbody>\n",
       "</table>\n",
       "<p>36275 rows × 19 columns</p>\n",
       "</div>"
      ],
      "text/plain": [
       "      Booking_ID  no_of_adults  no_of_children  no_of_weekend_nights  \\\n",
       "0       INN00001             2               0                     1   \n",
       "1       INN00002             2               0                     2   \n",
       "2       INN00003             1               0                     2   \n",
       "3       INN00004             2               0                     0   \n",
       "4       INN00005             2               0                     1   \n",
       "...          ...           ...             ...                   ...   \n",
       "36270   INN36271             3               0                     2   \n",
       "36271   INN36272             2               0                     1   \n",
       "36272   INN36273             2               0                     2   \n",
       "36273   INN36274             2               0                     0   \n",
       "36274   INN36275             2               0                     1   \n",
       "\n",
       "       no_of_week_nights type_of_meal_plan  required_car_parking_space  \\\n",
       "0                      2       Meal Plan 1                           0   \n",
       "1                      3      Not Selected                           0   \n",
       "2                      1       Meal Plan 1                           0   \n",
       "3                      2       Meal Plan 1                           0   \n",
       "4                      1      Not Selected                           0   \n",
       "...                  ...               ...                         ...   \n",
       "36270                  6       Meal Plan 1                           0   \n",
       "36271                  3       Meal Plan 1                           0   \n",
       "36272                  6       Meal Plan 1                           0   \n",
       "36273                  3      Not Selected                           0   \n",
       "36274                  2       Meal Plan 1                           0   \n",
       "\n",
       "      room_type_reserved  lead_time  arrival_year  arrival_month  \\\n",
       "0            Room_Type 1        224          2017             10   \n",
       "1            Room_Type 1          5          2018             11   \n",
       "2            Room_Type 1          1          2018              2   \n",
       "3            Room_Type 1        211          2018              5   \n",
       "4            Room_Type 1         48          2018              4   \n",
       "...                  ...        ...           ...            ...   \n",
       "36270        Room_Type 4         85          2018              8   \n",
       "36271        Room_Type 1        228          2018             10   \n",
       "36272        Room_Type 1        148          2018              7   \n",
       "36273        Room_Type 1         63          2018              4   \n",
       "36274        Room_Type 1        207          2018             12   \n",
       "\n",
       "       arrival_date market_segment_type  repeated_guest  \\\n",
       "0                 2             Offline               0   \n",
       "1                 6              Online               0   \n",
       "2                28              Online               0   \n",
       "3                20              Online               0   \n",
       "4                11              Online               0   \n",
       "...             ...                 ...             ...   \n",
       "36270             3              Online               0   \n",
       "36271            17              Online               0   \n",
       "36272             1              Online               0   \n",
       "36273            21              Online               0   \n",
       "36274            30             Offline               0   \n",
       "\n",
       "       no_of_previous_cancellations  no_of_previous_bookings_not_canceled  \\\n",
       "0                                 0                                     0   \n",
       "1                                 0                                     0   \n",
       "2                                 0                                     0   \n",
       "3                                 0                                     0   \n",
       "4                                 0                                     0   \n",
       "...                             ...                                   ...   \n",
       "36270                             0                                     0   \n",
       "36271                             0                                     0   \n",
       "36272                             0                                     0   \n",
       "36273                             0                                     0   \n",
       "36274                             0                                     0   \n",
       "\n",
       "       avg_price_per_room  no_of_special_requests booking_status  \n",
       "0                   65.00                       0   Not_Canceled  \n",
       "1                  106.68                       1   Not_Canceled  \n",
       "2                   60.00                       0       Canceled  \n",
       "3                  100.00                       0       Canceled  \n",
       "4                   94.50                       0       Canceled  \n",
       "...                   ...                     ...            ...  \n",
       "36270              167.80                       1   Not_Canceled  \n",
       "36271               90.95                       2       Canceled  \n",
       "36272               98.39                       2   Not_Canceled  \n",
       "36273               94.50                       0       Canceled  \n",
       "36274              161.67                       0   Not_Canceled  \n",
       "\n",
       "[36275 rows x 19 columns]"
      ]
     },
     "execution_count": 3,
     "metadata": {},
     "output_type": "execute_result"
    }
   ],
   "source": [
    "## read the data from csv file\n",
    "df = pd.read_csv('hotel.csv')\n",
    "df"
   ]
  },
  {
   "cell_type": "markdown",
   "id": "7e983cad-198b-4c0d-9700-f1809ada9946",
   "metadata": {},
   "source": [
    "## Data Cleaning"
   ]
  },
  {
   "cell_type": "code",
   "execution_count": 3,
   "id": "3ed46ec0-0b8f-4865-92f6-19175ce06952",
   "metadata": {},
   "outputs": [
    {
     "data": {
      "text/html": [
       "<div>\n",
       "<style scoped>\n",
       "    .dataframe tbody tr th:only-of-type {\n",
       "        vertical-align: middle;\n",
       "    }\n",
       "\n",
       "    .dataframe tbody tr th {\n",
       "        vertical-align: top;\n",
       "    }\n",
       "\n",
       "    .dataframe thead th {\n",
       "        text-align: right;\n",
       "    }\n",
       "</style>\n",
       "<table border=\"1\" class=\"dataframe\">\n",
       "  <thead>\n",
       "    <tr style=\"text-align: right;\">\n",
       "      <th></th>\n",
       "      <th>Booking_ID</th>\n",
       "      <th>no_of_adults</th>\n",
       "      <th>no_of_children</th>\n",
       "      <th>no_of_weekend_nights</th>\n",
       "      <th>no_of_week_nights</th>\n",
       "      <th>type_of_meal_plan</th>\n",
       "      <th>required_car_parking_space</th>\n",
       "      <th>room_type_reserved</th>\n",
       "      <th>lead_time</th>\n",
       "      <th>arrival_year</th>\n",
       "      <th>arrival_month</th>\n",
       "      <th>arrival_date</th>\n",
       "      <th>market_segment_type</th>\n",
       "      <th>repeated_guest</th>\n",
       "      <th>no_of_previous_cancellations</th>\n",
       "      <th>no_of_previous_bookings_not_canceled</th>\n",
       "      <th>avg_price_per_room</th>\n",
       "      <th>no_of_special_requests</th>\n",
       "      <th>booking_status</th>\n",
       "    </tr>\n",
       "  </thead>\n",
       "  <tbody>\n",
       "  </tbody>\n",
       "</table>\n",
       "</div>"
      ],
      "text/plain": [
       "Empty DataFrame\n",
       "Columns: [Booking_ID, no_of_adults, no_of_children, no_of_weekend_nights, no_of_week_nights, type_of_meal_plan, required_car_parking_space, room_type_reserved, lead_time, arrival_year, arrival_month, arrival_date, market_segment_type, repeated_guest, no_of_previous_cancellations, no_of_previous_bookings_not_canceled, avg_price_per_room, no_of_special_requests, booking_status]\n",
       "Index: []"
      ]
     },
     "execution_count": 3,
     "metadata": {},
     "output_type": "execute_result"
    }
   ],
   "source": [
    "## see whether there are missing data\n",
    "df.loc[np.sum(df.isna(),axis = 1)>0,:]"
   ]
  },
  {
   "cell_type": "code",
   "execution_count": 4,
   "id": "c02cff1a-1156-4001-8e6b-937eb8c32b65",
   "metadata": {},
   "outputs": [
    {
     "data": {
      "text/html": [
       "<div>\n",
       "<style scoped>\n",
       "    .dataframe tbody tr th:only-of-type {\n",
       "        vertical-align: middle;\n",
       "    }\n",
       "\n",
       "    .dataframe tbody tr th {\n",
       "        vertical-align: top;\n",
       "    }\n",
       "\n",
       "    .dataframe thead th {\n",
       "        text-align: right;\n",
       "    }\n",
       "</style>\n",
       "<table border=\"1\" class=\"dataframe\">\n",
       "  <thead>\n",
       "    <tr style=\"text-align: right;\">\n",
       "      <th></th>\n",
       "      <th>Booking_ID</th>\n",
       "      <th>no_of_adults</th>\n",
       "      <th>no_of_children</th>\n",
       "      <th>weekend_nights</th>\n",
       "      <th>week_nights</th>\n",
       "      <th>meal_plan</th>\n",
       "      <th>parking</th>\n",
       "      <th>room_type</th>\n",
       "      <th>lead_time</th>\n",
       "      <th>arrival_year</th>\n",
       "      <th>arrival_month</th>\n",
       "      <th>arrival_date</th>\n",
       "      <th>market</th>\n",
       "      <th>repeated_guest</th>\n",
       "      <th>prev_cancellations</th>\n",
       "      <th>prev_bookings</th>\n",
       "      <th>avg_price</th>\n",
       "      <th>special_requests</th>\n",
       "      <th>booking_status</th>\n",
       "    </tr>\n",
       "  </thead>\n",
       "  <tbody>\n",
       "    <tr>\n",
       "      <th>0</th>\n",
       "      <td>INN00001</td>\n",
       "      <td>2</td>\n",
       "      <td>0</td>\n",
       "      <td>1</td>\n",
       "      <td>2</td>\n",
       "      <td>Meal Plan 1</td>\n",
       "      <td>0</td>\n",
       "      <td>Room_Type 1</td>\n",
       "      <td>224</td>\n",
       "      <td>2017</td>\n",
       "      <td>10</td>\n",
       "      <td>2</td>\n",
       "      <td>Offline</td>\n",
       "      <td>0</td>\n",
       "      <td>0</td>\n",
       "      <td>0</td>\n",
       "      <td>65.00</td>\n",
       "      <td>0</td>\n",
       "      <td>Not_Canceled</td>\n",
       "    </tr>\n",
       "    <tr>\n",
       "      <th>1</th>\n",
       "      <td>INN00002</td>\n",
       "      <td>2</td>\n",
       "      <td>0</td>\n",
       "      <td>2</td>\n",
       "      <td>3</td>\n",
       "      <td>Not Selected</td>\n",
       "      <td>0</td>\n",
       "      <td>Room_Type 1</td>\n",
       "      <td>5</td>\n",
       "      <td>2018</td>\n",
       "      <td>11</td>\n",
       "      <td>6</td>\n",
       "      <td>Online</td>\n",
       "      <td>0</td>\n",
       "      <td>0</td>\n",
       "      <td>0</td>\n",
       "      <td>106.68</td>\n",
       "      <td>1</td>\n",
       "      <td>Not_Canceled</td>\n",
       "    </tr>\n",
       "    <tr>\n",
       "      <th>2</th>\n",
       "      <td>INN00003</td>\n",
       "      <td>1</td>\n",
       "      <td>0</td>\n",
       "      <td>2</td>\n",
       "      <td>1</td>\n",
       "      <td>Meal Plan 1</td>\n",
       "      <td>0</td>\n",
       "      <td>Room_Type 1</td>\n",
       "      <td>1</td>\n",
       "      <td>2018</td>\n",
       "      <td>2</td>\n",
       "      <td>28</td>\n",
       "      <td>Online</td>\n",
       "      <td>0</td>\n",
       "      <td>0</td>\n",
       "      <td>0</td>\n",
       "      <td>60.00</td>\n",
       "      <td>0</td>\n",
       "      <td>Canceled</td>\n",
       "    </tr>\n",
       "    <tr>\n",
       "      <th>3</th>\n",
       "      <td>INN00004</td>\n",
       "      <td>2</td>\n",
       "      <td>0</td>\n",
       "      <td>0</td>\n",
       "      <td>2</td>\n",
       "      <td>Meal Plan 1</td>\n",
       "      <td>0</td>\n",
       "      <td>Room_Type 1</td>\n",
       "      <td>211</td>\n",
       "      <td>2018</td>\n",
       "      <td>5</td>\n",
       "      <td>20</td>\n",
       "      <td>Online</td>\n",
       "      <td>0</td>\n",
       "      <td>0</td>\n",
       "      <td>0</td>\n",
       "      <td>100.00</td>\n",
       "      <td>0</td>\n",
       "      <td>Canceled</td>\n",
       "    </tr>\n",
       "    <tr>\n",
       "      <th>4</th>\n",
       "      <td>INN00005</td>\n",
       "      <td>2</td>\n",
       "      <td>0</td>\n",
       "      <td>1</td>\n",
       "      <td>1</td>\n",
       "      <td>Not Selected</td>\n",
       "      <td>0</td>\n",
       "      <td>Room_Type 1</td>\n",
       "      <td>48</td>\n",
       "      <td>2018</td>\n",
       "      <td>4</td>\n",
       "      <td>11</td>\n",
       "      <td>Online</td>\n",
       "      <td>0</td>\n",
       "      <td>0</td>\n",
       "      <td>0</td>\n",
       "      <td>94.50</td>\n",
       "      <td>0</td>\n",
       "      <td>Canceled</td>\n",
       "    </tr>\n",
       "  </tbody>\n",
       "</table>\n",
       "</div>"
      ],
      "text/plain": [
       "  Booking_ID  no_of_adults  no_of_children  weekend_nights  week_nights  \\\n",
       "0   INN00001             2               0               1            2   \n",
       "1   INN00002             2               0               2            3   \n",
       "2   INN00003             1               0               2            1   \n",
       "3   INN00004             2               0               0            2   \n",
       "4   INN00005             2               0               1            1   \n",
       "\n",
       "      meal_plan  parking    room_type  lead_time  arrival_year  arrival_month  \\\n",
       "0   Meal Plan 1        0  Room_Type 1        224          2017             10   \n",
       "1  Not Selected        0  Room_Type 1          5          2018             11   \n",
       "2   Meal Plan 1        0  Room_Type 1          1          2018              2   \n",
       "3   Meal Plan 1        0  Room_Type 1        211          2018              5   \n",
       "4  Not Selected        0  Room_Type 1         48          2018              4   \n",
       "\n",
       "   arrival_date   market  repeated_guest  prev_cancellations  prev_bookings  \\\n",
       "0             2  Offline               0                   0              0   \n",
       "1             6   Online               0                   0              0   \n",
       "2            28   Online               0                   0              0   \n",
       "3            20   Online               0                   0              0   \n",
       "4            11   Online               0                   0              0   \n",
       "\n",
       "   avg_price  special_requests booking_status  \n",
       "0      65.00                 0   Not_Canceled  \n",
       "1     106.68                 1   Not_Canceled  \n",
       "2      60.00                 0       Canceled  \n",
       "3     100.00                 0       Canceled  \n",
       "4      94.50                 0       Canceled  "
      ]
     },
     "execution_count": 4,
     "metadata": {},
     "output_type": "execute_result"
    }
   ],
   "source": [
    "## rename the columns: shorten the names of some columns, such as required_car_parking_space = parking; room_type_reserved = room_type; etc.\n",
    "column_rename_map = {\n",
    "    'no_of_weekend_nights': 'weekend_nights',\n",
    "    'no_of_week_nights': 'week_nights',\n",
    "    'type_of_meal_plan': 'meal_plan',\n",
    "    'required_car_parking_space': 'parking',\n",
    "    'room_type_reserved': 'room_type',\n",
    "    'market_segment_type':'market',\n",
    "    'no_of_previous_cancellations':'prev_cancellations',\n",
    "    'no_of_previous_bookings_not_canceled': 'prev_bookings',\n",
    "    'avg_price_per_room': 'avg_price',\n",
    "    'no_of_special_requests': 'special_requests'\n",
    "}\n",
    "df = df.rename(columns=column_rename_map)\n",
    "df.head()"
   ]
  },
  {
   "cell_type": "markdown",
   "id": "5d253a01-a15d-4a5a-bc86-b992ae2e403e",
   "metadata": {},
   "source": [
    "#### Convert categorical data using dummy variables"
   ]
  },
  {
   "cell_type": "code",
   "execution_count": 13,
   "id": "f7c71201-d34f-435c-8034-abe360f8a65d",
   "metadata": {},
   "outputs": [],
   "source": [
    "# meal_plan column\n",
    "#df['meal_plan'].unique()\n",
    "mealplan_dict = {\n",
    "    'Not Selected': 0,\n",
    "    'Meal Plan 1': 1,\n",
    "    'Meal Plan 2': 2,\n",
    "    'Meal Plan 3': 3\n",
    "}\n",
    "df['meal'] = df['meal_plan'].map(lambda x: mealplan_dict[x])"
   ]
  },
  {
   "cell_type": "code",
   "execution_count": 15,
   "id": "dcef71d4-d52c-4c6e-a7f0-b2e723dacbef",
   "metadata": {},
   "outputs": [],
   "source": [
    "# room_type column\n",
    "#df['room_type'].unique()\n",
    "room_map = {\n",
    "    'Room_Type 1': 1,\n",
    "    'Room_Type 2': 2,\n",
    "    'Room_Type 3': 3,\n",
    "    'Room_Type 4': 4,\n",
    "    'Room_Type 5': 5,\n",
    "    'Room_Type 6': 6,\n",
    "    'Room_Type 7': 7\n",
    "}\n",
    "df['room'] = df['room_type'].map(lambda x: room_map[x])"
   ]
  },
  {
   "cell_type": "code",
   "execution_count": 18,
   "id": "1e5fc45c-79b0-4331-8f54-1170c2f3a189",
   "metadata": {},
   "outputs": [],
   "source": [
    "# market column\n",
    "#df['market'].unique()\n",
    "market_map = {\n",
    "    'Offline': 0,\n",
    "    'Online': 1,\n",
    "    'Corporate': 2,\n",
    "    'Aviation': 3,\n",
    "    'Complementary': 4\n",
    "}\n",
    "df['mkt'] = df['market'].map(lambda x: market_map[x])"
   ]
  },
  {
   "cell_type": "code",
   "execution_count": 34,
   "id": "56f3a512-7271-4ce6-9bde-0baca3626fd7",
   "metadata": {},
   "outputs": [],
   "source": [
    "# booking status column (for ANOVA test 1 below)\n",
    "booking_map = {\n",
    "    'Not_Canceled': 0,\n",
    "    'Canceled': 1\n",
    "}\n",
    "df['cancel'] = df['booking_status'].map(lambda x: booking_map[x])"
   ]
  },
  {
   "cell_type": "code",
   "execution_count": 35,
   "id": "d77294d9-cdd9-4bd6-99ce-1ef7fda4b251",
   "metadata": {},
   "outputs": [
    {
     "data": {
      "text/plain": [
       "array([ 0,  2,  1,  3, 10,  9])"
      ]
     },
     "execution_count": 35,
     "metadata": {},
     "output_type": "execute_result"
    }
   ],
   "source": [
    "df['no_of_children'].unique()"
   ]
  },
  {
   "cell_type": "code",
   "execution_count": 37,
   "id": "412504d0-aecb-4df9-88d1-af22ffcdaeeb",
   "metadata": {},
   "outputs": [],
   "source": [
    "# no_of_children column (for ANOVA test 2 below)\n",
    "child_map = {\n",
    "    0: 0,\n",
    "    1: 1,\n",
    "    2: 1,\n",
    "    3: 1,\n",
    "    9: 1,\n",
    "    10: 1\n",
    "}\n",
    "df['bring_child'] = df['no_of_children'].map(lambda x: child_map[x])"
   ]
  },
  {
   "cell_type": "code",
   "execution_count": 42,
   "id": "c52894ca-2009-45e7-9815-2fd6c2a8f466",
   "metadata": {},
   "outputs": [],
   "source": [
    "# create a season column based on the value of arrival_month column (spring: 1; summer: 2; fall: 3; winter: 4)\n",
    "def map_season(month):\n",
    "    if month >= 3 and month <= 5:\n",
    "        return 1\n",
    "    elif month >= 6 and month <= 8:\n",
    "        return 2\n",
    "    elif month >= 9 and month <= 11:\n",
    "        return 3\n",
    "    elif month == 12 or month <= 2:\n",
    "        return 4\n",
    "    else:\n",
    "        return 'error'\n",
    "df['season'] = df['arrival_month'].apply(map_season)"
   ]
  },
  {
   "cell_type": "markdown",
   "id": "51dc6a69-b0ba-473f-9aba-17bc91142c58",
   "metadata": {},
   "source": [
    "#### Examine whether there are outliers (calculate mean,median,std,etc. of continuous data)"
   ]
  },
  {
   "cell_type": "code",
   "execution_count": 5,
   "id": "18be8689-2552-4f12-b23a-f1f4e726f1aa",
   "metadata": {},
   "outputs": [
    {
     "name": "stdout",
     "output_type": "stream",
     "text": [
      "The mean, median, and standard deviation of column avg_price are:  103.42353907649897 99.45 35.08894037453894\n"
     ]
    }
   ],
   "source": [
    "## price column\n",
    "avg_p = np.mean(df['avg_price'])\n",
    "median_p = np.median(df['avg_price'])\n",
    "std_p = np.std(df['avg_price'])\n",
    "print('The mean, median, and standard deviation of column avg_price are: ',avg_p,median_p,std_p)"
   ]
  },
  {
   "cell_type": "markdown",
   "id": "a8441a6d-378f-4a7a-bd4f-ae827cb2919c",
   "metadata": {},
   "source": [
    "## Data Analysis"
   ]
  },
  {
   "cell_type": "code",
   "execution_count": 29,
   "id": "70002704-459c-46bf-b940-00dc5d3db3b5",
   "metadata": {},
   "outputs": [
    {
     "name": "stdout",
     "output_type": "stream",
     "text": [
      "               sum_sq       df          F    PR(>F)\n",
      "room         4.222254      1.0  19.175814  0.000012\n",
      "Residual  7986.822543  36273.0        NaN       NaN\n"
     ]
    }
   ],
   "source": [
    "## Are the cancel rates for customers with different room types different statistically? \n",
    "room_ANOVA = ols('cancel ~ room', data=df).fit()\n",
    "anova_table1 = sm.stats.anova_lm(room_ANOVA, typ=2)\n",
    "print(anova_table)"
   ]
  },
  {
   "cell_type": "markdown",
   "id": "6f5dd36c-aeec-4ea5-8982-9299ebc95341",
   "metadata": {},
   "source": [
    "#### As shown in the table above, the p-value for room (room_type) variables is 0.000012, which is way less than 0.05, therefore, we can conclude that the cancel rates for customers with different room types are statistically inconsistent (different)."
   ]
  },
  {
   "cell_type": "code",
   "execution_count": 28,
   "id": "ed6c1340-1286-4518-a0fb-db9af54a4f3a",
   "metadata": {},
   "outputs": [
    {
     "name": "stdout",
     "output_type": "stream",
     "text": [
      "Pearson's correlation coefficient: 0.0229863701866078\n"
     ]
    }
   ],
   "source": [
    "## Now, let's see whether the room type is correlated with booking status, and if so, the direction of such correlation\n",
    "pearsonr_room = df['room'].corr(df['cancel'])\n",
    "print(\"Pearson's correlation coefficient:\", pearsonr_room)"
   ]
  },
  {
   "cell_type": "markdown",
   "id": "bb76c834-7633-4ded-9e2e-5715618e1975",
   "metadata": {},
   "source": [
    "#### A Pearson's r of 0.0229863701866078 indicates that there is a weak positive correlation between room type and booking status, in spite of the inconsistent cancel rates among customers with different room types."
   ]
  },
  {
   "cell_type": "code",
   "execution_count": 30,
   "id": "bc9bda7b-d3d0-45da-bb93-d6645b8e5d22",
   "metadata": {},
   "outputs": [
    {
     "name": "stdout",
     "output_type": "stream",
     "text": [
      "                     sum_sq       df          F        PR(>F)\n",
      "no_of_children     8.743340      1.0  39.731293  2.947637e-10\n",
      "Residual        7982.301457  36273.0        NaN           NaN\n"
     ]
    }
   ],
   "source": [
    "## Do those who bring their children with them honor their reservation more than those who do not?\n",
    "child_ANOVA = ols('cancel ~ no_of_children', data=df).fit()\n",
    "anova_table2 = sm.stats.anova_lm(child_ANOVA, typ=2)\n",
    "print(anova_table2)"
   ]
  },
  {
   "cell_type": "markdown",
   "id": "047eba3d-1055-4c0d-8b4e-2c5b54465a62",
   "metadata": {},
   "source": [
    "#### As shown in the table above, the p-value for children (no_of_children) variables is 2.947e-10, which is way less than 0.05, therefore, we can conclude that the cancel rates for customers who bring different numbers of children with them are statistically unconsistent (different)."
   ]
  },
  {
   "cell_type": "code",
   "execution_count": 32,
   "id": "0fa072a2-ac88-4618-824c-92494eb5aa61",
   "metadata": {},
   "outputs": [
    {
     "name": "stdout",
     "output_type": "stream",
     "text": [
      "Pearson's correlation coefficient: 0.03307782091225096\n"
     ]
    }
   ],
   "source": [
    "## Now, let's see whether the no_of_children is correlated with booking status, and if so, the direction of such correlation\n",
    "pearsonr_child = df['no_of_children'].corr(df['cancel'])\n",
    "print(\"Pearson's correlation coefficient:\", pearsonr_child)"
   ]
  },
  {
   "cell_type": "markdown",
   "id": "08e528c8-5b19-434d-b51c-40dd8b3200ee",
   "metadata": {},
   "source": [
    "#### A Pearson's r of 0.022078 indicates that there is a weak positive correlation between number of children and booking status, in spite of the inconsistent cancel rates among customers who bring different numbers of children with them."
   ]
  },
  {
   "cell_type": "markdown",
   "id": "f64b4e81-9287-45ba-91c7-e45d4885a0a2",
   "metadata": {},
   "source": [
    "#### Meanwhile, we wonder whether simply categorizing customers into two groups based on whether they bring children with them (instead of based on the number of child they bring) would yield different results."
   ]
  },
  {
   "cell_type": "code",
   "execution_count": 38,
   "id": "34b18e34-a1f7-4c12-8ee7-20406221eb1a",
   "metadata": {},
   "outputs": [
    {
     "name": "stdout",
     "output_type": "stream",
     "text": [
      "Pearson's correlation coefficient: 0.02664678277572277\n"
     ]
    }
   ],
   "source": [
    "pearsonr_children = df['bring_child'].corr(df['cancel'])\n",
    "print(\"Pearson's correlation coefficient:\", pearsonr_children)"
   ]
  },
  {
   "cell_type": "markdown",
   "id": "add125aa-54bb-4876-832f-3cdb4f2eba2a",
   "metadata": {},
   "source": [
    "#### A Pearson's r of 0.02665 indicates that there is a weak positive correlation between whether a customer brings child and whether the customer cancels the booking."
   ]
  },
  {
   "cell_type": "code",
   "execution_count": 39,
   "id": "04a695f4-0d4b-457e-a8e2-f4825a1c355e",
   "metadata": {},
   "outputs": [
    {
     "name": "stdout",
     "output_type": "stream",
     "text": [
      "                    sum_sq       df         F  PR(>F)\n",
      "arrival_month     1.008322      1.0  4.577559  0.0324\n",
      "Residual       7990.036475  36273.0       NaN     NaN\n"
     ]
    }
   ],
   "source": [
    "## Is there seasonality for cancel rate? (Whether cancel rate are inconsistent throughout a year) \n",
    "month_ANOVA = ols('cancel ~ arrival_month', data=df).fit()\n",
    "anova_table3 = sm.stats.anova_lm(month_ANOVA, typ=2)\n",
    "print(anova_table3)"
   ]
  },
  {
   "cell_type": "markdown",
   "id": "ab8ae1bb-0711-4a52-8cfe-2a76640f3a7a",
   "metadata": {},
   "source": [
    "#### As shown in the table above, the p-value for month (arrival_month) variables is 0.0324, which is less than 0.05, therefore, we can conclude that the cancel rates for customers arrived in different months of a year are statistically inconsistent (different)."
   ]
  },
  {
   "cell_type": "code",
   "execution_count": 40,
   "id": "f0596675-fad3-44c3-b6a5-6f399d26db99",
   "metadata": {},
   "outputs": [
    {
     "name": "stdout",
     "output_type": "stream",
     "text": [
      "Pearson's correlation coefficient: -0.011233054158994645\n"
     ]
    }
   ],
   "source": [
    "## Now, let's see whether the room type is correlated with booking status, and if so, the direction of such correlation\n",
    "pearsonr_month = df['arrival_month'].corr(df['cancel'])\n",
    "print(\"Pearson's correlation coefficient:\", pearsonr_month)"
   ]
  },
  {
   "cell_type": "markdown",
   "id": "19ac5de4-3fb7-4e3a-9910-b45762bac6b7",
   "metadata": {},
   "source": [
    "#### A Pearson's r of -0.011233 indicates that there is a weak negative correlation between arrival month and booking status, in spite of the inconsistent cancel rates among customers who arrived in different months of a year."
   ]
  },
  {
   "cell_type": "markdown",
   "id": "e2c13194-762a-4f9c-b070-5ed94d709421",
   "metadata": {},
   "source": [
    "#### Meanwhile, we wonder whether categorizing customers into 4 groups based on the season they arrived (spring,summer,fall,winter) would yield different results."
   ]
  },
  {
   "cell_type": "code",
   "execution_count": 43,
   "id": "75dbd0e9-82f4-420c-8f8a-171529a35b6d",
   "metadata": {},
   "outputs": [
    {
     "name": "stdout",
     "output_type": "stream",
     "text": [
      "Pearson's correlation coefficient: -0.12447779496289736\n"
     ]
    }
   ],
   "source": [
    "pearsonr_season = df['season'].corr(df['cancel'])\n",
    "print(\"Pearson's correlation coefficient:\", pearsonr_season)"
   ]
  },
  {
   "cell_type": "markdown",
   "id": "8d3fa7a0-2083-4239-962b-53a996e1e0a8",
   "metadata": {},
   "source": [
    "#### A Pearson's r of -0.1245 indicates that there is a weak negative correlation between arrival season and booking status."
   ]
  },
  {
   "cell_type": "code",
   "execution_count": null,
   "id": "a3bdc4bf-43f4-4812-88b5-8397bddd8c4a",
   "metadata": {},
   "outputs": [],
   "source": [
    "## Is the cancel rate in 2017 different from 2018? "
   ]
  },
  {
   "cell_type": "code",
   "execution_count": null,
   "id": "39d6de98-4f4a-4ce3-afea-aa7bbb1ca7ef",
   "metadata": {},
   "outputs": [],
   "source": [
    "## Examine whether the data complies with the assumptions for modeling (logistics regression)"
   ]
  },
  {
   "cell_type": "markdown",
   "id": "9d55f361-6ace-423c-ab17-53c540378765",
   "metadata": {},
   "source": [
    "## Data Visualization (draw it when needed)"
   ]
  },
  {
   "cell_type": "markdown",
   "id": "23d959d6-6f6e-4d29-8d45-539cc678ba7d",
   "metadata": {},
   "source": [
    "## Modeling"
   ]
  },
  {
   "cell_type": "code",
   "execution_count": null,
   "id": "e110b971",
   "metadata": {},
   "outputs": [],
   "source": [
    "## predictive model for whether a customer, given information about the booking, would honor or cancel the reservation"
   ]
  }
 ],
 "metadata": {
  "kernelspec": {
   "display_name": "Python 3 (ipykernel)",
   "language": "python",
   "name": "python3"
  },
  "language_info": {
   "codemirror_mode": {
    "name": "ipython",
    "version": 3
   },
   "file_extension": ".py",
   "mimetype": "text/x-python",
   "name": "python",
   "nbconvert_exporter": "python",
   "pygments_lexer": "ipython3",
   "version": "3.11.6"
  }
 },
 "nbformat": 4,
 "nbformat_minor": 5
}
