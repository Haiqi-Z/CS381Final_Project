{
 "cells": [
  {
   "cell_type": "code",
   "execution_count": null,
   "id": "ba4504f1-d994-46b7-bf5e-ca4f96d090c6",
   "metadata": {},
   "outputs": [],
   "source": [
    "## data collection"
   ]
  },
  {
   "cell_type": "code",
   "execution_count": null,
   "id": "ddd05b53",
   "metadata": {},
   "outputs": [],
   "source": [
    "## data cleaning"
   ]
  },
  {
   "cell_type": "code",
   "execution_count": null,
   "id": "02a180c6",
   "metadata": {},
   "outputs": [],
   "source": [
    "## data analysis"
   ]
  },
  {
   "cell_type": "code",
   "execution_count": null,
   "id": "4a66ee8b",
   "metadata": {},
   "outputs": [],
   "source": [
    "## data visualization"
   ]
  },
  {
   "cell_type": "code",
   "execution_count": null,
   "id": "e110b971",
   "metadata": {},
   "outputs": [],
   "source": [
    "## predictive model"
   ]
  }
 ],
 "metadata": {
  "kernelspec": {
   "display_name": "Python 3 (ipykernel)",
   "language": "python",
   "name": "python3"
  },
  "language_info": {
   "codemirror_mode": {
    "name": "ipython",
    "version": 3
   },
   "file_extension": ".py",
   "mimetype": "text/x-python",
   "name": "python",
   "nbconvert_exporter": "python",
   "pygments_lexer": "ipython3",
   "version": "3.11.6"
  }
 },
 "nbformat": 4,
 "nbformat_minor": 5
}
