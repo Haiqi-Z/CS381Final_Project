{
 "cells": [
  {
   "cell_type": "code",
   "execution_count": null,
   "id": "ba4504f1-d994-46b7-bf5e-ca4f96d090c6",
   "metadata": {},
   "outputs": [],
   "source": [
    "## test"
   ]
  }
 ],
 "metadata": {
  "kernelspec": {
   "display_name": "Python 3 (ipykernel)",
   "language": "python",
   "name": "python3"
  },
  "language_info": {
   "codemirror_mode": {
    "name": "ipython",
    "version": 3
   },
   "file_extension": ".py",
   "mimetype": "text/x-python",
   "name": "python",
   "nbconvert_exporter": "python",
   "pygments_lexer": "ipython3",
   "version": "3.11.6"
  }
 },
 "nbformat": 4,
 "nbformat_minor": 5
}
